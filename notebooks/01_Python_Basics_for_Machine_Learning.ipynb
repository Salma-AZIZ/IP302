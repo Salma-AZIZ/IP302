{
 "cells": [
  {
   "cell_type": "markdown",
   "id": "35ff07e4-a6f6-4bb4-bc09-c3b1b6b83db2",
   "metadata": {},
   "source": [
    "# Python Basics for Machine learning"
   ]
  },
  {
   "cell_type": "markdown",
   "id": "27316822-5373-4b49-97cd-504a28760acc",
   "metadata": {
    "tags": []
   },
   "source": [
    "## 1. Variables, Data Types, and Basic I/O"
   ]
  },
  {
   "cell_type": "markdown",
   "id": "b5c6fda6-a77b-4dd2-9983-ec4e7e9fdfa8",
   "metadata": {
    "tags": []
   },
   "source": [
    "### 1. varibales"
   ]
  },
  {
   "cell_type": "markdown",
   "id": "b23a95cb-99ac-4806-9c30-d4ad49e11fe3",
   "metadata": {},
   "source": [
    "Variables are essential in programming, allowing us to store and manipulate data. In Python:\n",
    "\n",
    "- **Declaration and Assignment:** A variable is created when a value is assigned to it, e.g., x = 5.\n",
    "- **Naming:** Names should start with a letter or an underscore, followed by letters, numbers, or underscores.\n",
    "- **Accessing and Modifying:** Access values using the variable name, e.g., print(x), and modify values by re-assignment, e.g., x = 10.\n",
    "- **Dynamic Typing:** Python determines the type of a variable at runtime, and a variable's type can change as new values are assigned to it.\n",
    "Let's explore these concepts with some examples in the following cells."
   ]
  },
  {
   "cell_type": "markdown",
   "id": "8c7aa67c-b644-4e32-a4ef-2ff4beba5b4f",
   "metadata": {},
   "source": [
    "- **Declaration and Assignment**\n",
    "\n",
    "In this step, we declare variables x and y, and assign values to them."
   ]
  },
  {
   "cell_type": "code",
   "execution_count": 7,
   "id": "b6c7329d-f896-4900-9c4d-a1d30f7d6fe4",
   "metadata": {},
   "outputs": [],
   "source": [
    "x = 5  # A variable named x is declared and assigned the value of 5.\n",
    "y = \"Hello\"  # A variable named y is declared and assigned the value of \"Hello\"."
   ]
  },
  {
   "cell_type": "markdown",
   "id": "7c3080e8-47c9-4a63-b1db-008ef622e39e",
   "metadata": {},
   "source": [
    "- **Good Practice for Naming Variables**\n",
    "\n",
    "Here, we name a variable descriptively to indicate its purpose."
   ]
  },
  {
   "cell_type": "code",
   "execution_count": 8,
   "id": "d93fe678-a909-408f-b515-3ae665a1061f",
   "metadata": {},
   "outputs": [],
   "source": [
    "user_age = 25  # It's descriptive and tells us it's the age of a user"
   ]
  },
  {
   "cell_type": "markdown",
   "id": "45bf515e-243e-4e14-9cac-bef8a0d8069b",
   "metadata": {},
   "source": [
    "- **Accessing Variable Values**\n",
    "\n",
    "We can access the values stored in variables using the print function."
   ]
  },
  {
   "cell_type": "code",
   "execution_count": 9,
   "id": "ef71e66b-99aa-4038-ab37-078a56fe3e2d",
   "metadata": {},
   "outputs": [
    {
     "name": "stdout",
     "output_type": "stream",
     "text": [
      "5\n",
      "Hello\n",
      "25\n"
     ]
    }
   ],
   "source": [
    "print(x)  # Output: 5\n",
    "print(y)  # Output: Hello\n",
    "print(user_age)  # Output: 25"
   ]
  },
  {
   "cell_type": "markdown",
   "id": "667981e3-376a-4287-adf2-ddce9344a646",
   "metadata": {},
   "source": [
    "- **Modifying Variable Values**\n",
    "\n",
    "Variables values can be changed by re-assignment. \n",
    "\n",
    "Here, we change the value of x from 5 to 10."
   ]
  },
  {
   "cell_type": "code",
   "execution_count": 11,
   "id": "eb25b548-5f36-41a3-ab6e-40a1a9d92a23",
   "metadata": {},
   "outputs": [
    {
     "name": "stdout",
     "output_type": "stream",
     "text": [
      "10\n"
     ]
    }
   ],
   "source": [
    "x = 10  # The value of x is now changed to 10.\n",
    "print(x)  # Output: 10\n",
    "# Now x holds the value 10 instead of 5."
   ]
  },
  {
   "cell_type": "markdown",
   "id": "e77b15d0-f95d-45bb-9f25-6f6e94439732",
   "metadata": {
    "tags": []
   },
   "source": [
    "### 2. Data Types"
   ]
  },
  {
   "cell_type": "markdown",
   "id": "13238c90-2c12-44ea-8372-288c4b713d9c",
   "metadata": {},
   "source": [
    "- int: Represents integer values (e.g., -2, -1, 0, 1, 2)\n",
    "- float: Represents floating-point or decimal values (e.g., -2.5, -1.0, 0.0, 1.5, 2.8)\n",
    "- str: Represents string or text values (e.g., \"hello\", 'Python')\n",
    "- bool: Represents boolean values, True or False (e.g., True, False)"
   ]
  },
  {
   "cell_type": "markdown",
   "id": "cce3c9d6-46d5-46ce-a327-ba2763f81675",
   "metadata": {},
   "source": [
    "- Integer data type"
   ]
  },
  {
   "cell_type": "code",
   "execution_count": 4,
   "id": "38d3758e-16dd-479b-8f85-8bd26861cf75",
   "metadata": {},
   "outputs": [
    {
     "name": "stdout",
     "output_type": "stream",
     "text": [
      "Value: 10, Data Type: <class 'int'>\n"
     ]
    }
   ],
   "source": [
    "integer_value = 10\n",
    "print(f\"Value: {integer_value}, Data Type: {type(integer_value)}\")  # Output: Value: 10, Data Type: <class 'int'>\n"
   ]
  },
  {
   "cell_type": "markdown",
   "id": "e8420f53-5787-4e9a-9576-09ee98cf9681",
   "metadata": {},
   "source": [
    "- Floating-point data type"
   ]
  },
  {
   "cell_type": "code",
   "execution_count": 16,
   "id": "56de6a19-b435-40ff-9213-eb0d09931acb",
   "metadata": {},
   "outputs": [
    {
     "name": "stdout",
     "output_type": "stream",
     "text": [
      "Value: 20.5, Data Type: <class 'float'>\n"
     ]
    }
   ],
   "source": [
    "float_value = 20.5\n",
    "print(f\"Value: {float_value}, Data Type: {type(float_value)}\")  # Output: Value: 20.5, Data Type: <class 'float'>"
   ]
  },
  {
   "cell_type": "markdown",
   "id": "4f77a7b5-2f58-4f3f-9fdb-42eab02853b5",
   "metadata": {},
   "source": [
    "- String data type"
   ]
  },
  {
   "cell_type": "code",
   "execution_count": 6,
   "id": "ac7deb78-c352-49c2-a6eb-9911089a2995",
   "metadata": {},
   "outputs": [
    {
     "name": "stdout",
     "output_type": "stream",
     "text": [
      "Value: Hello, Python!, Data Type: <class 'str'>\n"
     ]
    }
   ],
   "source": [
    "string_value = \"Hello, Python!\"\n",
    "print(f\"Value: {string_value}, Data Type: {type(string_value)}\")  # Output: Value: Hello, Python!, Data Type: <class 'str'>"
   ]
  },
  {
   "cell_type": "markdown",
   "id": "d3fb349a-350c-4df8-8a41-a85d2473cdf4",
   "metadata": {},
   "source": [
    "- Boolean data type"
   ]
  },
  {
   "cell_type": "code",
   "execution_count": 7,
   "id": "a272b700-b521-41be-98dd-56b0c98ec455",
   "metadata": {},
   "outputs": [
    {
     "name": "stdout",
     "output_type": "stream",
     "text": [
      "Value: True, Data Type: <class 'bool'>\n"
     ]
    }
   ],
   "source": [
    "boolean_value = True\n",
    "print(f\"Value: {boolean_value}, Data Type: {type(boolean_value)}\")  # Output: Value: True, Data Type: <class 'bool'>"
   ]
  },
  {
   "cell_type": "markdown",
   "id": "6b778a87-0a33-4109-8975-1ef31b13645a",
   "metadata": {
    "tags": []
   },
   "source": [
    "### 3. Basic input and output (I/O) operations"
   ]
  },
  {
   "cell_type": "markdown",
   "id": "d2afa7d2-d5cb-449e-a527-6cc9c5b19a09",
   "metadata": {},
   "source": [
    "Input Operations:\n",
    "- Getting user input using input() function.\n",
    "- Example: user_input = input(\"Enter something: \")\n",
    "Output Operations:\n",
    "- Displaying output using print() function.\n",
    "- Example: print(\"You entered:\", user_input)"
   ]
  },
  {
   "cell_type": "markdown",
   "id": "e913513c-198e-49cc-8342-160ea7d9555d",
   "metadata": {},
   "source": [
    "- Getting user input"
   ]
  },
  {
   "cell_type": "code",
   "execution_count": 19,
   "id": "dbc6bac4-ba7e-43a3-ad06-0c0719fe4a28",
   "metadata": {},
   "outputs": [
    {
     "name": "stdin",
     "output_type": "stream",
     "text": [
      "Please enter your name:  salma\n"
     ]
    }
   ],
   "source": [
    "# Getting user input\n",
    "user_input = input(\"Please enter your name: \")"
   ]
  },
  {
   "cell_type": "markdown",
   "id": "76d65ac0-02f7-4e6a-889c-4344b389a236",
   "metadata": {},
   "source": [
    "- Displaying output"
   ]
  },
  {
   "cell_type": "code",
   "execution_count": 30,
   "id": "d8926457-73db-470e-a685-f626fe869381",
   "metadata": {},
   "outputs": [
    {
     "name": "stdout",
     "output_type": "stream",
     "text": [
      "Hello, Salma!\n"
     ]
    }
   ],
   "source": [
    "# Displaying output\n",
    "print(\"Hello, \" + user_input + \"!\")"
   ]
  },
  {
   "cell_type": "markdown",
   "id": "a4b07f99-1684-4ec3-a01b-8db0ca1267fc",
   "metadata": {},
   "source": [
    "Now, let's assume we want to get a numerical input for calculation purposes.\n",
    "\n",
    "However, the input() function returns a string by default.\n",
    "\n",
    "So we'll need to convert this string to an integer using the int() function."
   ]
  },
  {
   "cell_type": "markdown",
   "id": "c504bf36-be61-486a-a9d2-d79ef4906709",
   "metadata": {},
   "source": [
    "- Getting numerical user input"
   ]
  },
  {
   "cell_type": "code",
   "execution_count": 9,
   "id": "67e65e4b-1b71-4150-91a2-8611d2880b23",
   "metadata": {},
   "outputs": [
    {
     "name": "stdin",
     "output_type": "stream",
     "text": [
      "Please enter your age:  27\n"
     ]
    }
   ],
   "source": [
    "user_age = input(\"Please enter your age: \")\n",
    "user_age = int(user_age)  # Converting string to integer"
   ]
  },
  {
   "cell_type": "markdown",
   "id": "baa229fc-6cb1-42c8-aa3e-6b80f7171d6e",
   "metadata": {},
   "source": [
    "Now we can use this numerical input for calculations\n",
    "\n",
    "For example, let's calculate the age in months:"
   ]
  },
  {
   "cell_type": "code",
   "execution_count": 10,
   "id": "5be1b562-382b-404b-beea-348f45c217b3",
   "metadata": {},
   "outputs": [],
   "source": [
    "age_in_months = user_age * 12"
   ]
  },
  {
   "cell_type": "markdown",
   "id": "cf843f35-f7fb-4493-86f6-fd72821e17eb",
   "metadata": {},
   "source": [
    "- Displaying the result"
   ]
  },
  {
   "cell_type": "code",
   "execution_count": 11,
   "id": "1b6051d1-77be-4754-9adb-5fd4bc2bfa30",
   "metadata": {},
   "outputs": [
    {
     "name": "stdout",
     "output_type": "stream",
     "text": [
      "You are 324 months old.\n"
     ]
    }
   ],
   "source": [
    "print(\"You are \" + str(age_in_months) + \" months old.\")"
   ]
  },
  {
   "cell_type": "markdown",
   "id": "06d9af82-f004-4d38-b981-b3d1b206e2c5",
   "metadata": {
    "tags": []
   },
   "source": [
    "## 2. Basic Data Structures: Lists, Tuples, Dictionaries, and Sets"
   ]
  },
  {
   "cell_type": "markdown",
   "id": "8e2ec249-7748-4820-be7e-b6dff1239064",
   "metadata": {},
   "source": [
    "### 1. Lists"
   ]
  },
  {
   "cell_type": "markdown",
   "id": "3de9d7fb-4f89-4d49-8c31-7e8476b41233",
   "metadata": {},
   "source": [
    "- Lists are ordered collections of items that can be of mixed data types. You can append new items to a list using the append() method."
   ]
  },
  {
   "cell_type": "code",
   "execution_count": 1,
   "id": "68d4e4a4-1237-4318-951e-243096f83f7f",
   "metadata": {},
   "outputs": [
    {
     "name": "stdout",
     "output_type": "stream",
     "text": [
      "[1, 2, 3, 'Python', 4.5]\n",
      "[1, 2, 3, 'Python', 4.5, 6]\n"
     ]
    }
   ],
   "source": [
    "# Example of Lists\n",
    "my_list = [1, 2, 3, \"Python\", 4.5]\n",
    "print(my_list)  # Output: [1, 2, 3, 'Python', 4.5]\n",
    "my_list.append(6)  # Adding a new item to the list\n",
    "print(my_list)  # Output: [1, 2, 3, 'Python', 4.5, 6]"
   ]
  },
  {
   "cell_type": "markdown",
   "id": "4f635da8-9e14-4787-a51c-8e05dfec05b0",
   "metadata": {},
   "source": [
    "### 2. Tuples"
   ]
  },
  {
   "cell_type": "markdown",
   "id": "733236e5-1af7-4edd-beba-1233ba551656",
   "metadata": {},
   "source": [
    "- Tuples are similar to lists but are immutable, so you cannot change a tuple once it's created."
   ]
  },
  {
   "cell_type": "code",
   "execution_count": 2,
   "id": "2898f2e6-d9b5-4fc9-ab3f-1a44c15fcc2a",
   "metadata": {},
   "outputs": [
    {
     "name": "stdout",
     "output_type": "stream",
     "text": [
      "(1, 2, 3, 'Python', 4.5)\n"
     ]
    }
   ],
   "source": [
    "# Example of Tuples\n",
    "my_tuple = (1, 2, 3, \"Python\", 4.5)\n",
    "print(my_tuple)  # Output: (1, 2, 3, 'Python', 4.5)\n",
    "# my_tuple[1] = 5  # This will raise a TypeError as tuples are immutable"
   ]
  },
  {
   "cell_type": "markdown",
   "id": "b728bf3b-c43c-49d8-9f49-4b8fc9abfeda",
   "metadata": {},
   "source": [
    "### 3. Dictionaries"
   ]
  },
  {
   "cell_type": "markdown",
   "id": "77160ff1-6bac-42e6-ae37-ecd6dbb4b6e5",
   "metadata": {},
   "source": [
    "- Dictionaries store data as key-value pairs. You can add new key-value pairs or modify existing ones"
   ]
  },
  {
   "cell_type": "code",
   "execution_count": 3,
   "id": "6e03955d-cdde-4398-8824-a7ffd305fcac",
   "metadata": {},
   "outputs": [
    {
     "name": "stdout",
     "output_type": "stream",
     "text": [
      "{'name': 'Alice', 'age': 25}\n",
      "{'name': 'Alice', 'age': 25, 'location': 'USA'}\n"
     ]
    }
   ],
   "source": [
    "# Example of Dictionaries\n",
    "my_dict = {\"name\": \"Alice\", \"age\": 25}\n",
    "print(my_dict)  # Output: {'name': 'Alice', 'age': 25}\n",
    "my_dict[\"location\"] = \"USA\"  # Adding a new key-value pair to the dictionary\n",
    "print(my_dict)  # Output: {'name': 'Alice', 'age': 25, 'location': 'USA'}"
   ]
  },
  {
   "cell_type": "markdown",
   "id": "1c1a34a2-4577-41fe-be4b-ebfb86e22e2a",
   "metadata": {},
   "source": [
    "### 4. Sets"
   ]
  },
  {
   "cell_type": "markdown",
   "id": "106be3d3-fe3c-4aa4-bb90-25a90fc5fd17",
   "metadata": {},
   "source": [
    "- Sets are collections of unique items. You can add new items to a set using the add() method. If you try to add a duplicate item, it will not be added to the set."
   ]
  },
  {
   "cell_type": "code",
   "execution_count": 4,
   "id": "7a6908b1-8eaa-430c-b150-358667ab31cb",
   "metadata": {},
   "outputs": [
    {
     "name": "stdout",
     "output_type": "stream",
     "text": [
      "{1, 2, 3}\n",
      "{1, 2, 3, 4}\n",
      "{1, 2, 3, 4}\n"
     ]
    }
   ],
   "source": [
    "# Example of Sets\n",
    "my_set = {1, 2, 3}\n",
    "print(my_set)  # Output: {1, 2, 3}\n",
    "my_set.add(4)  # Adding a new unique item to the set\n",
    "print(my_set)  # Output: {1, 2, 3, 4}\n",
    "my_set.add(3)  # Adding a duplicate item to the set, it will not be added\n",
    "print(my_set)  # Output: {1, 2, 3, 4}"
   ]
  },
  {
   "cell_type": "markdown",
   "id": "f7cfc79b-f046-4838-9f69-cfe12ef091bb",
   "metadata": {},
   "source": [
    "## Control Structures: if, for, and while Loops, and List Comprehensions"
   ]
  },
  {
   "cell_type": "markdown",
   "id": "281bfc73-e6e8-410d-9a10-efa6661fd438",
   "metadata": {},
   "source": [
    "### 1. if statement"
   ]
  },
  {
   "cell_type": "markdown",
   "id": "2af0f63a-57cf-4b87-88bf-691c35ef7756",
   "metadata": {},
   "source": [
    "if statement: Here, we check if a is greater than 5. Since it's true, the statement inside the if block is executed."
   ]
  },
  {
   "cell_type": "code",
   "execution_count": 9,
   "id": "21b02367-4fcb-426e-bfce-d1f892aa611c",
   "metadata": {},
   "outputs": [
    {
     "name": "stdout",
     "output_type": "stream",
     "text": [
      "a is greater than 5\n"
     ]
    }
   ],
   "source": [
    "# Example 1: if statement\n",
    "a = 10\n",
    "if a > 5:\n",
    "    print(\"a is greater than 5\")  # Output: a is greater than 5"
   ]
  },
  {
   "cell_type": "markdown",
   "id": "1458d4de-f91f-4e7d-abe2-8e16daadf7fd",
   "metadata": {},
   "source": [
    "### 2. for loop"
   ]
  },
  {
   "cell_type": "markdown",
   "id": "5fe642f4-07ed-4824-90fa-1707511f1579",
   "metadata": {},
   "source": [
    "for loop: We iterate over a sequence of numbers generated by range(5), printing each number."
   ]
  },
  {
   "cell_type": "code",
   "execution_count": 10,
   "id": "3a8cea9e-bcbc-4a8f-86b8-02835ff1da7f",
   "metadata": {},
   "outputs": [
    {
     "name": "stdout",
     "output_type": "stream",
     "text": [
      "0\n",
      "1\n",
      "2\n",
      "3\n",
      "4\n"
     ]
    }
   ],
   "source": [
    "# Example 2: for loop\n",
    "for i in range(5):  # range(5) generates a sequence of numbers from 0 to 4\n",
    "    print(i)  # Output: 0, 1, 2, 3, 4, on separate lines"
   ]
  },
  {
   "cell_type": "markdown",
   "id": "cf59ebb7-8240-4e23-a2bd-c816c8c0c71d",
   "metadata": {},
   "source": [
    "### 3. while loop"
   ]
  },
  {
   "cell_type": "markdown",
   "id": "d4883ce6-f5dc-4f1f-b4d3-3f8a3dab351a",
   "metadata": {},
   "source": [
    "while loop: The loop keeps executing as long as counter is less than 5, printing and then incrementing counter."
   ]
  },
  {
   "cell_type": "code",
   "execution_count": 11,
   "id": "e78cce23-be09-43f7-b2b8-a92ccc6bd925",
   "metadata": {},
   "outputs": [
    {
     "name": "stdout",
     "output_type": "stream",
     "text": [
      "0\n",
      "1\n",
      "2\n",
      "3\n",
      "4\n"
     ]
    }
   ],
   "source": [
    "# Example 3: while loop\n",
    "counter = 0\n",
    "while counter < 5:\n",
    "    print(counter)  # Output: 0, 1, 2, 3, 4, on separate lines\n",
    "    counter += 1  # Incrementing the counter"
   ]
  },
  {
   "cell_type": "markdown",
   "id": "5da5a395-5a86-48ea-a802-beacb144d1ab",
   "metadata": {},
   "source": [
    "### 4. List Comprehension"
   ]
  },
  {
   "cell_type": "markdown",
   "id": "d3d9c3e3-5533-4313-a65d-fdaead54fff2",
   "metadata": {},
   "source": [
    "List Comprehension: A new list squares is created by squaring each number in the numbers list."
   ]
  },
  {
   "cell_type": "code",
   "execution_count": 12,
   "id": "255d73e0-1c1b-4400-bde2-d2ef47b55725",
   "metadata": {},
   "outputs": [
    {
     "name": "stdout",
     "output_type": "stream",
     "text": [
      "[1, 4, 9, 16, 25]\n"
     ]
    }
   ],
   "source": [
    "# Example 4: List Comprehension\n",
    "numbers = [1, 2, 3, 4, 5]\n",
    "squares = [n**2 for n in numbers]  # Calculating the square of each number\n",
    "print(squares)  # Output: [1, 4, 9, 16, 25]"
   ]
  },
  {
   "cell_type": "markdown",
   "id": "ffaeade7-6daf-4763-acdd-403e3992fa84",
   "metadata": {},
   "source": [
    "### 5. List Comprehension with condition"
   ]
  },
  {
   "cell_type": "markdown",
   "id": "6ae08393-20b6-44e4-9b3f-3a8fd9c867ec",
   "metadata": {},
   "source": [
    "List Comprehension with condition: A new list evens is created by filtering out only even numbers from the numbers list."
   ]
  },
  {
   "cell_type": "code",
   "execution_count": 13,
   "id": "1d5279a9-913c-4390-9441-e8f40d3def8a",
   "metadata": {},
   "outputs": [
    {
     "name": "stdout",
     "output_type": "stream",
     "text": [
      "[2, 4]\n"
     ]
    }
   ],
   "source": [
    "# Example 5: List Comprehension with condition\n",
    "evens = [n for n in numbers if n % 2 == 0]  # Filtering even numbers\n",
    "print(evens)  # Output: [2, 4]"
   ]
  },
  {
   "cell_type": "markdown",
   "id": "b5026af8-63d7-4110-b2b0-4a84fbcee4e9",
   "metadata": {},
   "source": [
    "----"
   ]
  }
 ],
 "metadata": {
  "kernelspec": {
   "display_name": "Python 3 (ipykernel)",
   "language": "python",
   "name": "python3"
  },
  "language_info": {
   "codemirror_mode": {
    "name": "ipython",
    "version": 3
   },
   "file_extension": ".py",
   "mimetype": "text/x-python",
   "name": "python",
   "nbconvert_exporter": "python",
   "pygments_lexer": "ipython3",
   "version": "3.9.12"
  }
 },
 "nbformat": 4,
 "nbformat_minor": 5
}
